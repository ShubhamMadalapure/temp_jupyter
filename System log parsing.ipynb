{
 "cells": [
  {
   "cell_type": "code",
   "execution_count": 60,
   "metadata": {},
   "outputs": [],
   "source": [
    "import re"
   ]
  },
  {
   "cell_type": "code",
   "execution_count": 61,
   "metadata": {},
   "outputs": [],
   "source": [
    "# Open the log file for reading\n",
    "with open(r\"C:\\Users\\shubhammadalapure\\Desktop\\system_logs.txt\", 'r') as file:\n",
    "    log_entries = file.readlines()\n"
   ]
  },
  {
   "cell_type": "code",
   "execution_count": 62,
   "metadata": {},
   "outputs": [
    {
     "name": "stdout",
     "output_type": "stream",
     "text": [
      "[2023-10-05 14:30:00] User 'John' logged in.\n",
      "\n",
      "[2023-10-05 15:00:00] User 'Alice' accessed the dashboard.\n",
      "\n",
      "[2023-10-05 15:30:00] User 'Bob' logged in.\n",
      "\n",
      "[2023-10-05 16:00:00] User 'Eve' accessed the dashboard.\n"
     ]
    },
    {
     "data": {
      "text/plain": [
       "[None, None, None, None]"
      ]
     },
     "execution_count": 62,
     "metadata": {},
     "output_type": "execute_result"
    }
   ],
   "source": [
    "[print(entry) for entry in log_entries]"
   ]
  },
  {
   "cell_type": "code",
   "execution_count": 63,
   "metadata": {},
   "outputs": [
    {
     "data": {
      "text/plain": [
       "list"
      ]
     },
     "execution_count": 63,
     "metadata": {},
     "output_type": "execute_result"
    }
   ],
   "source": [
    "type(log_entries)"
   ]
  },
  {
   "cell_type": "code",
   "execution_count": 64,
   "metadata": {},
   "outputs": [],
   "source": [
    "timestamps = []\n",
    "usernames = []\n",
    "activities = []"
   ]
  },
  {
   "cell_type": "code",
   "execution_count": 76,
   "metadata": {},
   "outputs": [],
   "source": [
    "pattern= r'\\[(.*?)\\] user \\'(.*?)\\' (.*?)\\.'\n",
    "pattern2= r'\\[(.*?)\\] User \\'(.*?)\\' (.*?)\\.'"
   ]
  },
  {
   "cell_type": "code",
   "execution_count": 77,
   "metadata": {},
   "outputs": [
    {
     "name": "stdout",
     "output_type": "stream",
     "text": [
      "\\[(.*?)\\] User \\'(.*?)\\' (.*?)\\.\n",
      "\\[(.*?)\\] User \\'(.*?)\\' (.*?)\\.\n"
     ]
    }
   ],
   "source": [
    "print(pattern1)\n",
    "print(pattern2)"
   ]
  },
  {
   "cell_type": "code",
   "execution_count": 74,
   "metadata": {},
   "outputs": [],
   "source": [
    "for entry in log_entries:\n",
    "    match = re.match(pattern, entry)\n",
    "    if match:\n",
    "        timestamp, username, activity = match.groups()\n",
    "        timestamps.append(timestamp)\n",
    "        usernames.append(username)\n",
    "        activities.append(activity)"
   ]
  },
  {
   "cell_type": "code",
   "execution_count": 75,
   "metadata": {},
   "outputs": [],
   "source": [
    "for i in range(len(timestamps)):\n",
    "    print(f\"Timestamp: {timestamps[i]}, User: {usernames[i]}, Activity: {activities[i]}\")"
   ]
  },
  {
   "cell_type": "code",
   "execution_count": 71,
   "metadata": {},
   "outputs": [
    {
     "data": {
      "text/plain": [
       "0"
      ]
     },
     "execution_count": 71,
     "metadata": {},
     "output_type": "execute_result"
    }
   ],
   "source": [
    "len(timestamps)"
   ]
  },
  {
   "cell_type": "code",
   "execution_count": 39,
   "metadata": {},
   "outputs": [
    {
     "name": "stdout",
     "output_type": "stream",
     "text": [
      "Timestamp: 2023-10-05 14:30:00, User: John, Activity: logged in\n",
      "Timestamp: 2023-10-05 15:00:00, User: Alice, Activity: accessed the dashboard\n",
      "Timestamp: 2023-10-05 15:30:00, User: Bob, Activity: logged in\n",
      "Timestamp: 2023-10-05 16:00:00, User: Eve, Activity: accessed the dashboard\n"
     ]
    }
   ],
   "source": [
    "import re\n",
    "\n",
    "# Sample log entries\n",
    "\n",
    "\n",
    "# Regular expression pattern to parse log entries\n",
    "pattern = r'\\[(.*?)\\] User \\'(.*?)\\' (.*?)\\.'\n",
    "\n",
    "# Loop through log entries and extract information\n",
    "for entry in log_entries:\n",
    "    match = re.match(pattern, entry)\n",
    "    if match:\n",
    "        timestamp, username, activity = match.groups()\n",
    "        print(f\"Timestamp: {timestamp}, User: {username}, Activity: {activity}\")\n"
   ]
  },
  {
   "cell_type": "code",
   "execution_count": null,
   "metadata": {},
   "outputs": [],
   "source": []
  }
 ],
 "metadata": {
  "kernelspec": {
   "display_name": "Python 3",
   "language": "python",
   "name": "python3"
  },
  "language_info": {
   "codemirror_mode": {
    "name": "ipython",
    "version": 3
   },
   "file_extension": ".py",
   "mimetype": "text/x-python",
   "name": "python",
   "nbconvert_exporter": "python",
   "pygments_lexer": "ipython3",
   "version": "3.8.5"
  }
 },
 "nbformat": 4,
 "nbformat_minor": 4
}
